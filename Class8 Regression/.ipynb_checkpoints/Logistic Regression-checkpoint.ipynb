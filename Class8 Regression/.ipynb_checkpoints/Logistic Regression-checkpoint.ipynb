{
 "cells": [
  {
   "cell_type": "markdown",
   "metadata": {},
   "source": [
    "# Logistic Regression"
   ]
  },
  {
   "cell_type": "code",
   "execution_count": 4,
   "metadata": {},
   "outputs": [],
   "source": [
    "import numpy as np\n",
    "import seaborn as sns\n",
    "import pandas as pd\n",
    "from matplotlib import pyplot as plt\n",
    "%matplotlib inline"
   ]
  },
  {
   "cell_type": "code",
   "execution_count": 5,
   "metadata": {},
   "outputs": [],
   "source": [
    "mean_01=np.array([0.1,0.2])\n",
    "mean_02= np.array([5.1,5.2])\n",
    "\n",
    "cov_01= np.array([[1.0,0.2],[0.2,1.1]])\n",
    "cov_02= np.array([[1.0,0.3],[0.3,1.1]])\n",
    "\n",
    "dist_01=np.random.multivariate_normal(mean_01,cov_01,500) # We want to draw a distribution whose mean is this and covariance is this\n",
    "dist_02=np.random.multivariate_normal(mean_02,cov_02,500)"
   ]
  },
  {
   "cell_type": "code",
   "execution_count": 6,
   "metadata": {},
   "outputs": [
    {
     "name": "stdout",
     "output_type": "stream",
     "text": [
      "(500, 2)\n",
      "(500, 2)\n"
     ]
    }
   ],
   "source": [
    "print dist_01.shape\n",
    "print dist_02.shape\n",
    "#print dist_01\n",
    "#2-weights or 1 bias\n"
   ]
  },
  {
   "cell_type": "code",
   "execution_count": 7,
   "metadata": {},
   "outputs": [
    {
     "data": {
      "image/png": "[encoded data removed]",
      "text/plain": [
       "<Figure size 432x432 with 1 Axes>"
      ]
     },
     "metadata": {},
     "output_type": "display_data"
    }
   ],
   "source": [
    "plt.figure(0, figsize=(6,6))\n",
    "sns.plt.scatter(dist_01[:,0],dist_01[:,1],color='red')\n",
    "sns.plt.scatter(dist_02[:,0],dist_02[:,1],color='blue')\n",
    "\n",
    "#sns.regplot(dist_01[:,0],dist_01[:,1],color='yellow')\n",
    "#sns.regplot(dist_02[:,0],dist_02[:,1],color='green')\n",
    "sns.plt.show()\n",
    "\n"
   ]
  },
  {
   "cell_type": "code",
   "execution_count": 8,
   "metadata": {},
   "outputs": [
    {
     "name": "stdout",
     "output_type": "stream",
     "text": [
      "(1000, 3)\n"
     ]
    }
   ],
   "source": [
    "#Total Datset\n",
    "rows= dist_01.shape[0] +dist_02.shape[0]\n",
    "cols= dist_01.shape[1]+1 #()\n",
    "\n",
    "data= np.zeros((rows,cols)) #rows=1000,cols=3\n",
    "print data.shape\n",
    "\n",
    "data[:dist_01.shape[0], :dist_01.shape[1]] =dist_01      #(it means (500,2) me dist_01 dal dia)\n",
    "data[dist_01.shape[0]:rows, :dist_01.shape[1]]=dist_02 ##(it means (500,2) me dist_02 dal dia)\n",
    "data[dist_01.shape[0]:rows,-1] = 1.0                   #It means (500:1000 ke labels One kr diye)\n"
   ]
  },
  {
   "cell_type": "code",
   "execution_count": null,
   "metadata": {},
   "outputs": [],
   "source": []
  },
  {
   "cell_type": "code",
   "execution_count": 9,
   "metadata": {},
   "outputs": [
    {
     "data": {
      "text/plain": [
       "array([[ 4.78095328,  4.69438969,  1.        ],\n",
       "       [-0.0157471 ,  1.62827514,  0.        ],\n",
       "       [-0.61152729,  0.61333311,  0.        ],\n",
       "       [-0.58061423,  0.7554398 ,  0.        ],\n",
       "       [ 0.64540262, -2.10426987,  0.        ],\n",
       "       [ 4.58363777,  5.76455841,  1.        ],\n",
       "       [ 6.70823747,  5.95666033,  1.        ],\n",
       "       [ 0.24378595, -0.05184205,  0.        ],\n",
       "       [-1.4125761 , -0.74934069,  0.        ],\n",
       "       [ 7.72244578,  6.68787051,  1.        ]])"
      ]
     },
     "execution_count": 9,
     "metadata": {},
     "output_type": "execute_result"
    }
   ],
   "source": [
    "np.random.shuffle(data) #it return none values and it is does because otherwise algorithm will accept that there is no chage and give 100 percent accuracy to calculate basically each random dataset\n",
    "\n",
    "data[:10] #see data will shuffle\n"
   ]
  },
  {
   "cell_type": "markdown",
   "metadata": {},
   "source": [
    "# Splitting through sklearn function"
   ]
  },
  {
   "cell_type": "code",
   "execution_count": 42,
   "metadata": {},
   "outputs": [
    {
     "data": {
      "text/plain": [
       "'\\n\\n\\nSee fromkeshav code\\n\\n\\n\\n'"
      ]
     },
     "execution_count": 42,
     "metadata": {},
     "output_type": "execute_result"
    }
   ],
   "source": [
    "'''\n",
    "\n",
    "\n",
    "See fromkeshav code\n",
    "\n",
    "\n",
    "\n",
    "'''"
   ]
  },
  {
   "cell_type": "code",
   "execution_count": null,
   "metadata": {},
   "outputs": [],
   "source": []
  },
  {
   "cell_type": "code",
   "execution_count": 12,
   "metadata": {},
   "outputs": [
    {
     "name": "stdout",
     "output_type": "stream",
     "text": [
      "(750, 2)\n",
      "(250, 2)\n",
      "(750,)\n",
      "(250,)\n"
     ]
    }
   ],
   "source": [
    "#Data splitting \n",
    "split= int(0.75*data.shape[0])\n",
    "X_train= data[:split ,:-1]\n",
    "Y_train= data[:split,-1]\n",
    "\n",
    "X_test= data[split:,:-1] #xtest data for cross check whetehr it match or not\n",
    "Y_test=data[split:,-1]  #labels test data\n",
    "\n",
    "print X_train.shape\n",
    "print X_test.shape\n",
    "print Y_train.shape\n",
    "print Y_test.shape\n",
    "\n",
    "\n"
   ]
  },
  {
   "cell_type": "code",
   "execution_count": 31,
   "metadata": {},
   "outputs": [],
   "source": [
    "def sigmoid(z):\n",
    "    sig= 1.0/(1 + np.exp(-1*z)) #0.5 se upr h to class 1 nhi to class 0\n",
    "    return sig                  #This return the value btw 0and 1\n",
    "def hypothesis(x_sample,w,b): #b stands for bias(w0) and x_sample is one row in dataset X(750,2),w is 1d array containing(w1 and w2)\n",
    "    h=(x_sample*w).sum() +b  #b is w0 h is y hat # h is basically (w0+w1x1+w2x2) rewritten as (b+(x_sample*w).sum())\n",
    "    return sigmoid(h) #it will call sig(h(xi))\n",
    "\n",
    "def get_error(x,w,y_true,b):#function to calculate error using log likleyhood function -(ylog(h(xi))+(1-y)log(1-h(xi))\n",
    "                                                                                      #  ist case       IInd case\n",
    "    err=0.0\n",
    "    m=x.shape[0]\n",
    "    #ek epoch (iteration) ke liye ye sara kamhoga phir ek error ki value return hogi phir \n",
    "    \n",
    "    for ix in range(m):\n",
    "        if y_true[ix]==0: #y is basically label for datset and it is true label \n",
    "            \n",
    "            #print hypthesis(x[ix],w,b) #case ist \n",
    "            add_term= -1*(np.log(1- hypothesis(x[ix],w,b))) #if y_original=0 means -1*[(1-0)log(1-h(xi))] this is remianing error calculate this\n",
    "            err+= add_term  #and see this if hypthesis is also 0 means no error y original is match with y predicted so by evaluationg the error should be zero\n",
    "        \n",
    "        else:\n",
    "            add_term =-1*(np.log(hypothesis(x[ix],w,b)))  #second case if y_original=1 means -1*[(1)log(h(xi))] this is remaining\n",
    "            err+=add_term #And in this also if Y_predicted means hypothesis 1 then error should be zero by evaluating log(1) is zero means error zero hence proved\n",
    "        \n",
    "    \n",
    "    err=err/m  #Atlast divide error by m\n",
    "    return err\n",
    "            \n",
    "            \n",
    "    #print err\n",
    "        "
   ]
  },
  {
   "cell_type": "code",
   "execution_count": 32,
   "metadata": {},
   "outputs": [],
   "source": [
    "#get_error(X_train[3:4],W,Y_train[3:4],b)"
   ]
  },
  {
   "cell_type": "markdown",
   "metadata": {},
   "source": [
    "import sys\n",
    "np.log(0)\n"
   ]
  },
  {
   "cell_type": "code",
   "execution_count": 33,
   "metadata": {},
   "outputs": [],
   "source": [
    "def get_gradients(x,w,y_true,b):# x is full x_train and w is (1d array) , y_true is original label and b is bias\n",
    "    \n",
    "    #this grad_w and grad_b are the derivatives of log loss function in general -1(yj-h(x(i)))xj \n",
    "    grad_w= np.zeros(w.shape[0]) #w is a shape(2-features) one is for label and other is for cordinates bascially grad_w is w1 and w2 its a 1-d arrayn of w0  \n",
    "    grad_b= 0 # derivative of log loss function wrt w0 is 0\n",
    "    \n",
    "    m=x.shape[0]\n",
    "    for ix in range(m):\n",
    "        grad_w += (hypothesis(x[ix],w,b)-y_true[ix])*(x[ix]) # Calculate grad for all points in datset\n",
    "        grad_b += (hypothesis(x[ix],w,b)-y_true[ix])*(1)  # calculate grad for bias wo for all points\n",
    "        \n",
    "    \n",
    "    return [grad_w,grad_b] #return the values of differntial of loss function wrt(w0,w1,w2)\n",
    "    \n",
    "        "
   ]
  },
  {
   "cell_type": "code",
   "execution_count": 34,
   "metadata": {},
   "outputs": [],
   "source": [
    "def optimizer(x,w,y_true,b,learning_rate=0.001): #this function is for calculationg the gradient to reach at local minima where error is minimum\n",
    "    error= get_error(x,w,y_true,b) #calculatng error here\n",
    "    #note refer to block where we call Logistic_Regression\n",
    "    \n",
    "    [grad_w,grad_b] = get_gradients(x,w,y_true,b) #this will make a list of all differntial gradient wtr(w0,w1,w2)\n",
    "    \n",
    "    b=b -learning_rate*grad_b   #for bias updating the value of b\n",
    "    w= w - learning_rate*grad_w #update the values of w1,w2 both\n",
    "    \n",
    "    return error ,w,b\n",
    "    \n",
    "    "
   ]
  },
  {
   "cell_type": "code",
   "execution_count": 35,
   "metadata": {},
   "outputs": [],
   "source": [
    "def Logistic_Regression(X_train,Y_train, nb_epochs=2,learning_rate=0.0001): #nb_epochs is no of iteration in one iteration it will recompute the values of W and tend to minimize the error\n",
    "    \n",
    "    loss=[]\n",
    "    ##Paramater Initialization\n",
    "    W=np.array([0.3,0.2]) #default values\n",
    "    b= -1.4\n",
    "    \n",
    "    for ix in range(nb_epochs): #nb_epochs is no of iterations on X dataset (1000) kitni bari weights update ho rha h\n",
    "        error,W,b=optimizer(X_train,W,Y_train,b,learning_rate)\n",
    "        loss.append(error)\n",
    "        \n",
    "    \n",
    "    W_final= W #final postion \n",
    "    b_final=b #final bias\n",
    "    \n",
    "    \n",
    "    return loss, W_final,b_final\n",
    "\n",
    "    "
   ]
  },
  {
   "cell_type": "code",
   "execution_count": 36,
   "metadata": {},
   "outputs": [
    {
     "name": "stdout",
     "output_type": "stream",
     "text": [
      "150\n"
     ]
    }
   ],
   "source": [
    "loss,W,b=Logistic_Regression(X_train, Y_train,nb_epochs=150,learning_rate=0.0001)\n",
    "print len(loss) #Note loss ki len no of epochs ke equal isliye aa rhi h basically see in optimizer function for ist iteration it call error function \n",
    "#and the error function calculate the error with all dataset X and return the value of error and then immediatey call get_gradients that will update the valuw of w that means\n",
    "#update the postion of line or sheet hence error will minimide for now second iteration calculate error this will slightly more decrease and hence the graph of error is decreasing function curve"
   ]
  },
  {
   "cell_type": "code",
   "execution_count": 27,
   "metadata": {},
   "outputs": [
    {
     "data": {
      "text/plain": [
       "[<matplotlib.lines.Line2D at 0x7f5a44e4f6d0>]"
      ]
     },
     "execution_count": 27,
     "metadata": {},
     "output_type": "execute_result"
    },
    {
     "data": {
      "image/png": "[encoded data removed]",
      "text/plain": [
       "<Figure size 432x288 with 1 Axes>"
      ]
     },
     "metadata": {},
     "output_type": "display_data"
    }
   ],
   "source": [
    "#print loss\n",
    "sns.plt.plot(loss)"
   ]
  },
  {
   "cell_type": "markdown",
   "metadata": {},
   "source": [
    "# Now Accuracy part(2-methods)"
   ]
  },
  {
   "cell_type": "code",
   "execution_count": 28,
   "metadata": {},
   "outputs": [
    {
     "name": "stdout",
     "output_type": "stream",
     "text": [
      "[6.82308604 3.4034141 ] 1.0 0.9867933348364073\n"
     ]
    }
   ],
   "source": [
    "print X_test[3],Y_test[3],hypothesis(X_test[3],W,b) #X_test ki 3 row ka point (x,y) ka original label 1 hai and hypothesis will return a predicted_val is 098 means >0.5 hence class 1"
   ]
  },
  {
   "cell_type": "code",
   "execution_count": 29,
   "metadata": {},
   "outputs": [],
   "source": [
    "predicted_val=[]\n",
    "for ix in range(len(X_test)):\n",
    "    k=hypothesis(X_test[ix],W,b)\n",
    "    if k>0.5: #if k >0.5 hence class 1 otherwise class 0\n",
    "        k=1\n",
    "    else:\n",
    "        k=0\n",
    "    \n",
    "    predicted_val.append(k)\n",
    "\n",
    "#print predicted_val\n",
    "\n"
   ]
  },
  {
   "cell_type": "code",
   "execution_count": 30,
   "metadata": {},
   "outputs": [
    {
     "name": "stdout",
     "output_type": "stream",
     "text": [
      "[0, 0, 1, 1, 1, 0, 0, 0, 1, 0, 0, 0, 1, 0, 0, 0, 1, 0, 0, 0, 0, 0, 0, 0, 1, 1, 1, 1, 0, 1, 0, 1, 1, 1, 1, 0, 1, 0, 0, 0, 1, 1, 1, 0, 0, 0, 0, 0, 0, 0, 0, 1, 0, 0, 1, 1, 1, 0, 1, 0, 0, 0, 0, 0, 0, 1, 1, 0, 1, 0, 1, 0, 0, 0, 1, 1, 1, 1, 1, 1, 1, 1, 1, 0, 0, 1, 1, 1, 0, 1, 1, 1, 0, 1, 1, 0, 1, 1, 0, 0, 1, 1, 1, 0, 0, 0, 0, 0, 0, 0, 0, 1, 0, 0, 0, 1, 1, 0, 0, 1, 0, 1, 0, 1, 1, 0, 1, 0, 0, 0, 1, 1, 0, 1, 0, 0, 1, 0, 1, 1, 0, 0, 0, 1, 1, 0, 1, 0, 0, 0, 0, 0, 1, 0, 1, 0, 0, 1, 1, 1, 0, 1, 1, 1, 1, 1, 0, 0, 1, 1, 0, 1, 1, 0, 0, 0, 1, 1, 1, 1, 1, 1, 0, 1, 1, 0, 1, 1, 0, 0, 0, 0, 0, 0, 1, 0, 0, 0, 1, 1, 1, 1, 0, 0, 1, 1, 1, 0, 0, 0, 0, 0, 0, 1, 1, 1, 0, 1, 0, 1, 0, 1, 1, 0, 1, 0, 0, 0, 0, 0, 0, 1, 0, 0, 1, 0, 1, 1, 1, 0, 1, 0, 0, 0, 0, 0, 1, 1, 0, 1]\n",
      "[0. 0. 1. 1. 1. 0. 0. 0. 1. 0. 0. 0. 1. 0. 0. 0. 1. 0. 0. 0. 0. 0. 0. 0.\n",
      " 1. 1. 1. 1. 0. 1. 0. 1. 1. 1. 1. 0. 1. 0. 0. 0. 1. 1. 1. 0. 0. 0. 0. 0.\n",
      " 0. 0. 0. 1. 0. 0. 1. 1. 1. 0. 1. 0. 0. 0. 0. 0. 0. 1. 1. 0. 1. 0. 1. 0.\n",
      " 0. 0. 1. 1. 1. 1. 0. 1. 1. 1. 1. 0. 0. 1. 1. 1. 0. 1. 1. 1. 0. 1. 1. 0.\n",
      " 1. 1. 0. 0. 1. 1. 1. 0. 0. 0. 0. 0. 0. 0. 0. 1. 0. 0. 0. 1. 0. 0. 0. 1.\n",
      " 0. 1. 0. 1. 1. 0. 1. 0. 0. 0. 1. 1. 0. 1. 0. 0. 1. 0. 1. 1. 0. 0. 0. 1.\n",
      " 1. 0. 1. 0. 0. 0. 0. 0. 1. 0. 1. 0. 0. 1. 1. 1. 0. 1. 1. 1. 1. 1. 0. 0.\n",
      " 1. 1. 0. 1. 1. 0. 0. 0. 1. 1. 1. 1. 1. 1. 0. 1. 1. 0. 1. 1. 0. 0. 0. 0.\n",
      " 0. 0. 1. 0. 0. 0. 1. 1. 1. 1. 0. 0. 1. 1. 1. 0. 0. 0. 0. 0. 0. 1. 1. 1.\n",
      " 0. 1. 0. 1. 0. 1. 1. 0. 1. 0. 0. 0. 0. 0. 0. 1. 0. 0. 1. 0. 1. 1. 1. 0.\n",
      " 1. 0. 0. 0. 0. 0. 1. 1. 0. 1.]\n",
      "0.992\n"
     ]
    }
   ],
   "source": [
    "print predicted_val #list of hypothesis values(predicted_val)\n",
    "print Y_test #actual labels\n",
    "from sklearn.metrics import accuracy_score #this sklearn function only valid for classification methods in liniear regresssion it cant be applied\n",
    "print accuracy_score(predicted_val,Y_test)"
   ]
  },
  {
   "cell_type": "markdown",
   "metadata": {},
   "source": [
    "# 2 method"
   ]
  },
  {
   "cell_type": "code",
   "execution_count": 37,
   "metadata": {},
   "outputs": [],
   "source": [
    "from sklearn.linear_model import LogisticRegression"
   ]
  },
  {
   "cell_type": "code",
   "execution_count": 38,
   "metadata": {},
   "outputs": [],
   "source": [
    "lr =LogisticRegression()"
   ]
  },
  {
   "cell_type": "code",
   "execution_count": 39,
   "metadata": {},
   "outputs": [
    {
     "data": {
      "text/plain": [
       "1.0"
      ]
     },
     "execution_count": 39,
     "metadata": {},
     "output_type": "execute_result"
    }
   ],
   "source": [
    "lr.fit(X_train,Y_train)\n",
    "lr.score(X_test,Y_test)"
   ]
  },
  {
   "cell_type": "code",
   "execution_count": null,
   "metadata": {},
   "outputs": [],
   "source": []
  }
 ],
 "metadata": {
  "kernelspec": {
   "display_name": "Python 2",
   "language": "python",
   "name": "python2"
  },
  "language_info": {
   "codemirror_mode": {
    "name": "ipython",
    "version": 2
   },
   "file_extension": ".py",
   "mimetype": "text/x-python",
   "name": "python",
   "nbconvert_exporter": "python",
   "pygments_lexer": "ipython2",
   "version": "2.7.12"
  }
 },
 "nbformat": 4,
 "nbformat_minor": 2
}
