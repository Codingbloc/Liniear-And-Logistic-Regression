{
 "cells": [
  {
   "cell_type": "markdown",
   "metadata": {},
   "source": [
    "# Regresion (Logistic(Classification method) and Liniear(Regression method))"
   ]
  },
  {
   "cell_type": "markdown",
   "metadata": {},
   "source": [
    "# Note(What we have to done we want to decrease learning rate with no of iterations)"
   ]
  },
  {
   "cell_type": "code",
   "execution_count": 1,
   "metadata": {},
   "outputs": [],
   "source": [
    "import numpy as np\n",
    "from matplotlib import pyplot as plt\n",
    "%matplotlib inline\n",
    "from sklearn.datasets import make_regression\n",
    "import seaborn as sns\n",
    "make_regression?"
   ]
  },
  {
   "cell_type": "markdown",
   "metadata": {},
   "source": [
    "Returns\n",
    "-------\n",
    "X : array of shape [n_samples, n_features]\n",
    "    The input samples.\n",
    "\n",
    "y : array of shape [n_samples] or [n_samples, n_targets]\n",
    "    The output values.\n",
    "\n",
    "coef : array of shape [n_features] or [n_features, n_targets], optional\n",
    "    The coefficient of the underlying linear model. It is returned only if\n",
    "    coef is True."
   ]
  },
  {
   "cell_type": "code",
   "execution_count": 2,
   "metadata": {},
   "outputs": [
    {
     "name": "stdout",
     "output_type": "stream",
     "text": [
      "(500, 1) (500,) 95.27598313519577\n",
      "95.27598313519577\n"
     ]
    }
   ],
   "source": [
    "X, y, cof = make_regression(n_samples=500, n_features=1, bias=4.2, noise=7.1, coef=True) #w0=bias\n",
    "print X.shape, y.shape, cof # X is our Area of house and y is our original price of each house \n",
    "#print X\n",
    "#print y\n",
    "print cof #cof is ur slope of line m or here w1(w0+w1x)"
   ]
  },
  {
   "cell_type": "markdown",
   "metadata": {},
   "source": [
    "# The problem is we want to find price of house for an arbitrary area this will estimates on the basis of a hypthesis line that best ffits the given datset and computes using liniear regression method(Basically Gradient descent Algorithm)"
   ]
  },
  {
   "cell_type": "code",
   "execution_count": 3,
   "metadata": {},
   "outputs": [
    {
     "data": {
      "text/plain": [
       "<matplotlib.collections.PathCollection at 0x7f03799a9d90>"
      ]
     },
     "execution_count": 3,
     "metadata": {},
     "output_type": "execute_result"
    },
    {
     "data": {
      "image/png": "[encoded data removed]",
      "text/plain": [
       "<Figure size 432x288 with 1 Axes>"
      ]
     },
     "metadata": {},
     "output_type": "display_data"
    }
   ],
   "source": [
    "#plt.xlim(-200, 200)\n",
    "#plt.ylim(-200, 200)\n",
    "sns.plt.scatter(X[:, 0], y)\n"
   ]
  },
  {
   "cell_type": "code",
   "execution_count": 4,
   "metadata": {},
   "outputs": [
    {
     "name": "stdout",
     "output_type": "stream",
     "text": [
      "(400, 1) (100, 1)\n",
      "(400,) (100,)\n"
     ]
    }
   ],
   "source": [
    "split = int(0.8 * X.shape[0])\n",
    "\n",
    "X_train = X[:split]\n",
    "X_test = X[split:] #split because inside the Area we sepearte such 100 areas and want to compute the price of 100 areas of house on hypothesis line\n",
    "\n",
    "y_train = y[:split] #y_train is our original price and now onwards we are going to find yhat which is estimated value for given\n",
    "y_test = y[split:]\n",
    "\n",
    "print X_train.shape, X_test.shape\n",
    "print y_train.shape, y_test.shape"
   ]
  },
  {
   "cell_type": "code",
   "execution_count": 5,
   "metadata": {},
   "outputs": [],
   "source": [
    "# hypothesis function\n",
    "def hypothesis(x, w):\n",
    "    return x*w[1] + w[0]\n",
    "\n",
    "# error compute\n",
    "def get_error(y_true, x, w):\n",
    "    err = 0.0\n",
    "    # Get number of examples\n",
    "    m = x.shape[0]\n",
    "    for ix in range(m):\n",
    "        # for each example compute the square error\n",
    "        err += (y_true[ix] - hypothesis(x[ix], w))**2\n",
    "    # Get mean sq. error\n",
    "    err = err / (2*m)\n",
    "    return err\n",
    "\n",
    "# error gradient\n",
    "def get_grads(y_true, x, w):\n",
    "    grad_00 = 0.0\n",
    "    grad_01 = 0.0\n",
    "    \n",
    "    # Get number of examples\n",
    "    m = x.shape[0]\n",
    "    \n",
    "    for ix in range(m):\n",
    "        # for each example compute the gradients\n",
    "        grad_00 += (y_true[ix] - hypothesis(x[ix], w))*(-1)\n",
    "        grad_01 += (y_true[ix] - hypothesis(x[ix], w))*(-1*x[ix])\n",
    "    \n",
    "    # Get mean grads\n",
    "    grad_00 = grad_00 / m\n",
    "    grad_01 = grad_01 / m\n",
    "    return [grad_00, grad_01]\n",
    "\n",
    "# update weights using grad. desc.\n",
    "def grad_descent(x, y_true, w, learning_rate=0.1):\n",
    "    error = get_error(y_true, x, w)\n",
    "    [grad_00, grad_01] = get_grads(y_true, x, w)\n",
    "    \n",
    "    w[0] = w[0] - learning_rate*grad_00\n",
    "    w[1] = w[1] - learning_rate*grad_01\n",
    "    \n",
    "    return error, w"
   ]
  },
  {
   "cell_type": "code",
   "execution_count": 6,
   "metadata": {},
   "outputs": [],
   "source": [
    "W = np.array([0.1, 0.1]) # W is our w0+w1x(y=mx+c)\n",
    "loss = [] # this empty list is used to append the values of error from evry point "
   ]
  },
  {
   "cell_type": "markdown",
   "metadata": {},
   "source": [
    "# learning rate is decreased with no of iterations code (nt used just for ur understanding)"
   ]
  },
  {
   "cell_type": "code",
   "execution_count": null,
   "metadata": {},
   "outputs": [],
   "source": [
    "'''\n",
    "for ix in range(100):#100 no of iterations\n",
    "    sns.plot.scatter(X[:,0],y)\n",
    "    y0=hypothesis(-3,w)\n",
    "    y1=hypothesis(3,w)\n",
    "    plt.plot([-3, 3], [y_0, y_1], 'y*-') #draw a random lne using hypothesis\n",
    "    plt.show()\n",
    "    \n",
    "    \n",
    "    if ix<20:\n",
    "      l,w=grad_desc(y_train,x_train,w,learning_rate=0.01)\n",
    "    \n",
    "    if ix>20 and ix<50:\n",
    "      l,w=grad_desc(y_train,x_train,w,learning_rate=0.005)\n",
    "      \n",
    "    else:\n",
    "     \n",
    "      l,w=grad_desc(y_train,x_train,w,learning_rate=0.001)\n",
    "      \n",
    "      loss.append(l)\n",
    "\n",
    "'''"
   ]
  },
  {
   "cell_type": "markdown",
   "metadata": {},
   "source": [
    "# This will best show that how a line changes on different values of theta or w"
   ]
  },
  {
   "cell_type": "code",
   "execution_count": 52,
   "metadata": {},
   "outputs": [
    {
     "name": "stdout",
     "output_type": "stream",
     "text": [
      "-275.4992083477521 283.145220286543\n",
      "----------------------------------------------------------------------------------------------------\n"
     ]
    },
    {
     "data": {
      "image/png": "[encoded data removed]",
      "text/plain": [
       "<Figure size 432x288 with 1 Axes>"
      ]
     },
     "metadata": {},
     "output_type": "display_data"
    },
    {
     "name": "stdout",
     "output_type": "stream",
     "text": [
      "----------------------------------------------------------------------------------------------------\n",
      "(400, 1) (400,)\n",
      "----------------------------------------------------------------------------------------------------\n",
      "3.826111208946519 93.1237799778941\n"
     ]
    }
   ],
   "source": [
    "# for ix in range(100):\n",
    "\n",
    "sns.plt.scatter(X[:, 0], y)\n",
    "\n",
    "y_0 = hypothesis(-3, W) #simply i want to plot a line using cordinates\n",
    "y_1 = hypothesis(3, W)\n",
    "print y_0,y_1 #Two points Basically these are predicted value of (-3,3) on y=mx+c thus we can draw a line using this point\n",
    "print '-'*100\n",
    "plt.plot([-3, 3], [y_0, y_1], 'y*-') #draw a random lne using hypothesis\n",
    "\n",
    "\n",
    "\n",
    "plt.show()\n",
    "print '-'*100\n",
    "print X_train.shape,y_train.shape\n",
    "#while training we want to see hou much loss we suffered from actual data using loss function\n",
    "l, W = grad_descent(X_train, y_train, W, learning_rate=0.01) # now call the gradient function each time you can get differnent values of W so that you can reach at local minima(means you will got an line that best fits the dataset)\n",
    "loss.append(l) #l(error will append the list loss)\n",
    "print '-'*100\n",
    "print W[0],W[1]\n",
    "# print loss\n",
    "\n"
   ]
  },
  {
   "cell_type": "code",
   "execution_count": 53,
   "metadata": {},
   "outputs": [
    {
     "data": {
      "image/png": "[encoded data removed]",
      "text/plain": [
       "<Figure size 432x288 with 1 Axes>"
      ]
     },
     "metadata": {},
     "output_type": "display_data"
    }
   ],
   "source": [
    "plt.plot(loss)\n",
    "plt.show()"
   ]
  },
  {
   "cell_type": "code",
   "execution_count": 9,
   "metadata": {},
   "outputs": [
    {
     "name": "stdout",
     "output_type": "stream",
     "text": [
      "[0.11404131 1.12395114]\n"
     ]
    }
   ],
   "source": [
    "print W"
   ]
  },
  {
   "cell_type": "code",
   "execution_count": 10,
   "metadata": {},
   "outputs": [
    {
     "name": "stdout",
     "output_type": "stream",
     "text": [
      "95.27598313519577\n"
     ]
    }
   ],
   "source": [
    "print cof"
   ]
  },
  {
   "cell_type": "code",
   "execution_count": null,
   "metadata": {},
   "outputs": [],
   "source": []
  },
  {
   "cell_type": "markdown",
   "metadata": {},
   "source": [
    "# From sklearn"
   ]
  },
  {
   "cell_type": "code",
   "execution_count": 11,
   "metadata": {},
   "outputs": [],
   "source": [
    "from sklearn.linear_model import LinearRegression\n"
   ]
  },
  {
   "cell_type": "code",
   "execution_count": 12,
   "metadata": {},
   "outputs": [
    {
     "data": {
      "text/plain": [
       "LinearRegression(copy_X=True, fit_intercept=True, n_jobs=1, normalize=False)"
      ]
     },
     "execution_count": 12,
     "metadata": {},
     "output_type": "execute_result"
    }
   ],
   "source": [
    "lr = LinearRegression()\n",
    "\n",
    "lr.fit(X_train, y_train) #X-train is our Area and Y-train is our original set of prices"
   ]
  },
  {
   "cell_type": "markdown",
   "metadata": {},
   "source": [
    "X : array-like, shape = (n_samples, n_features)\n",
    "    Test samples.\n",
    "\n",
    "y : array-like, shape = (n_samples) or (n_samples, n_outputs)\n",
    "    True values for X.\n"
   ]
  },
  {
   "cell_type": "code",
   "execution_count": 13,
   "metadata": {},
   "outputs": [
    {
     "data": {
      "text/plain": [
       "0.9921446766085174"
      ]
     },
     "execution_count": 13,
     "metadata": {},
     "output_type": "execute_result"
    }
   ],
   "source": [
    "lr.score(X_test, y_test) #X is our test examples and we want to learn or see the values of such examples on hypothesis and the match our Y-test (this is original values regarding our X_test and finally find the accuracy rate)"
   ]
  },
  {
   "cell_type": "code",
   "execution_count": 14,
   "metadata": {},
   "outputs": [],
   "source": [
    "#np.log(0.3)\n",
    "lr.score?\n"
   ]
  },
  {
   "cell_type": "code",
   "execution_count": null,
   "metadata": {},
   "outputs": [],
   "source": []
  },
  {
   "cell_type": "code",
   "execution_count": null,
   "metadata": {},
   "outputs": [],
   "source": []
  },
  {
   "cell_type": "code",
   "execution_count": null,
   "metadata": {},
   "outputs": [],
   "source": []
  },
  {
   "cell_type": "code",
   "execution_count": null,
   "metadata": {},
   "outputs": [],
   "source": []
  },
  {
   "cell_type": "code",
   "execution_count": null,
   "metadata": {},
   "outputs": [],
   "source": []
  },
  {
   "cell_type": "code",
   "execution_count": null,
   "metadata": {},
   "outputs": [],
   "source": []
  },
  {
   "cell_type": "code",
   "execution_count": null,
   "metadata": {},
   "outputs": [],
   "source": []
  },
  {
   "cell_type": "code",
   "execution_count": null,
   "metadata": {},
   "outputs": [],
   "source": []
  },
  {
   "cell_type": "code",
   "execution_count": null,
   "metadata": {},
   "outputs": [],
   "source": []
  },
  {
   "cell_type": "code",
   "execution_count": null,
   "metadata": {},
   "outputs": [],
   "source": []
  },
  {
   "cell_type": "code",
   "execution_count": null,
   "metadata": {},
   "outputs": [],
   "source": []
  },
  {
   "cell_type": "code",
   "execution_count": null,
   "metadata": {},
   "outputs": [],
   "source": []
  },
  {
   "cell_type": "code",
   "execution_count": null,
   "metadata": {},
   "outputs": [],
   "source": []
  },
  {
   "cell_type": "code",
   "execution_count": null,
   "metadata": {},
   "outputs": [],
   "source": []
  },
  {
   "cell_type": "code",
   "execution_count": null,
   "metadata": {},
   "outputs": [],
   "source": []
  },
  {
   "cell_type": "code",
   "execution_count": null,
   "metadata": {},
   "outputs": [],
   "source": []
  },
  {
   "cell_type": "code",
   "execution_count": null,
   "metadata": {},
   "outputs": [],
   "source": []
  },
  {
   "cell_type": "code",
   "execution_count": null,
   "metadata": {},
   "outputs": [],
   "source": []
  },
  {
   "cell_type": "code",
   "execution_count": null,
   "metadata": {},
   "outputs": [],
   "source": []
  }
 ],
 "metadata": {
  "kernelspec": {
   "display_name": "Python 2",
   "language": "python",
   "name": "python2"
  },
  "language_info": {
   "codemirror_mode": {
    "name": "ipython",
    "version": 2
   },
   "file_extension": ".py",
   "mimetype": "text/x-python",
   "name": "python",
   "nbconvert_exporter": "python",
   "pygments_lexer": "ipython2",
   "version": "2.7.12"
  }
 },
 "nbformat": 4,
 "nbformat_minor": 2
}
